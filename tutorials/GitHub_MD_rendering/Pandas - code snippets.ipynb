{
 "cells": [
  {
   "cell_type": "markdown",
   "metadata": {},
   "source": [
    "# Pandas - code snippets"
   ]
  },
  {
   "cell_type": "markdown",
   "metadata": {},
   "source": [
    "# Loading Some Example Data"
   ]
  },
  {
   "cell_type": "code",
   "execution_count": 2,
   "metadata": {},
   "outputs": [
    {
     "data": {
      "text/html": [
       "<table border=\"1\" class=\"dataframe\">\n",
       "  <thead>\n",
       "    <tr style=\"text-align: right;\">\n",
       "      <th></th>\n",
       "      <th>PLAYER</th>\n",
       "      <th>SALARY</th>\n",
       "      <th>GP</th>\n",
       "      <th>G</th>\n",
       "      <th>A</th>\n",
       "      <th>SOT</th>\n",
       "      <th>PPG</th>\n",
       "      <th>P</th>\n",
       "    </tr>\n",
       "  </thead>\n",
       "  <tbody>\n",
       "    <tr>\n",
       "      <th>0</th>\n",
       "      <td>     Sergio Agüero\\n Forward — Manchester City</td>\n",
       "      <td> $19.2m</td>\n",
       "      <td> 16</td>\n",
       "      <td> 14</td>\n",
       "      <td>  3</td>\n",
       "      <td> 34</td>\n",
       "      <td> 13.12</td>\n",
       "      <td> 209.98</td>\n",
       "    </tr>\n",
       "    <tr>\n",
       "      <th>1</th>\n",
       "      <td>              Eden Hazard\\n Midfield — Chelsea</td>\n",
       "      <td> $18.9m</td>\n",
       "      <td> 21</td>\n",
       "      <td>  8</td>\n",
       "      <td>  4</td>\n",
       "      <td> 17</td>\n",
       "      <td> 13.05</td>\n",
       "      <td> 274.04</td>\n",
       "    </tr>\n",
       "    <tr>\n",
       "      <th>2</th>\n",
       "      <td>            Alexis Sánchez\\n Forward — Arsenal</td>\n",
       "      <td> $17.6m</td>\n",
       "      <td>NaN</td>\n",
       "      <td> 12</td>\n",
       "      <td>  7</td>\n",
       "      <td> 29</td>\n",
       "      <td> 11.19</td>\n",
       "      <td> 223.86</td>\n",
       "    </tr>\n",
       "    <tr>\n",
       "      <th>3</th>\n",
       "      <td>       Yaya Touré\\n Midfield — Manchester City</td>\n",
       "      <td> $16.6m</td>\n",
       "      <td> 18</td>\n",
       "      <td>  7</td>\n",
       "      <td>  1</td>\n",
       "      <td> 19</td>\n",
       "      <td> 10.99</td>\n",
       "      <td> 197.91</td>\n",
       "    </tr>\n",
       "    <tr>\n",
       "      <th>4</th>\n",
       "      <td> Ángel Di María\\n Midfield — Manchester United</td>\n",
       "      <td> $15.0m</td>\n",
       "      <td> 13</td>\n",
       "      <td>  3</td>\n",
       "      <td>NaN</td>\n",
       "      <td> 13</td>\n",
       "      <td> 10.17</td>\n",
       "      <td> 132.23</td>\n",
       "    </tr>\n",
       "    <tr>\n",
       "      <th>5</th>\n",
       "      <td>         Santiago Cazorla\\n Midfield — Arsenal</td>\n",
       "      <td> $14.8m</td>\n",
       "      <td> 20</td>\n",
       "      <td>  4</td>\n",
       "      <td>NaN</td>\n",
       "      <td> 20</td>\n",
       "      <td>  9.97</td>\n",
       "      <td>    NaN</td>\n",
       "    </tr>\n",
       "    <tr>\n",
       "      <th>6</th>\n",
       "      <td>      David Silva\\n Midfield — Manchester City</td>\n",
       "      <td> $14.3m</td>\n",
       "      <td> 15</td>\n",
       "      <td>  6</td>\n",
       "      <td>  2</td>\n",
       "      <td> 11</td>\n",
       "      <td> 10.35</td>\n",
       "      <td> 155.26</td>\n",
       "    </tr>\n",
       "    <tr>\n",
       "      <th>7</th>\n",
       "      <td>            Cesc Fàbregas\\n Midfield — Chelsea</td>\n",
       "      <td> $14.0m</td>\n",
       "      <td> 20</td>\n",
       "      <td>  2</td>\n",
       "      <td> 14</td>\n",
       "      <td> 10</td>\n",
       "      <td> 10.47</td>\n",
       "      <td> 209.49</td>\n",
       "    </tr>\n",
       "    <tr>\n",
       "      <th>8</th>\n",
       "      <td>          Saido Berahino\\n Forward — West Brom</td>\n",
       "      <td> $13.8m</td>\n",
       "      <td> 21</td>\n",
       "      <td>  9</td>\n",
       "      <td>  0</td>\n",
       "      <td> 20</td>\n",
       "      <td>  7.02</td>\n",
       "      <td> 147.43</td>\n",
       "    </tr>\n",
       "    <tr>\n",
       "      <th>9</th>\n",
       "      <td>         Steven Gerrard\\n Midfield — Liverpool</td>\n",
       "      <td> $13.8m</td>\n",
       "      <td> 20</td>\n",
       "      <td>  5</td>\n",
       "      <td>  1</td>\n",
       "      <td> 11</td>\n",
       "      <td>  7.50</td>\n",
       "      <td> 150.01</td>\n",
       "    </tr>\n",
       "  </tbody>\n",
       "</table>\n",
""      ],
      "text/plain": [
       "                                          PLAYER  SALARY  GP   G   A  SOT  \\\n",
       "0      Sergio Agüero\\n Forward — Manchester City  $19.2m  16  14   3   34   \n",
       "1               Eden Hazard\\n Midfield — Chelsea  $18.9m  21   8   4   17   \n",
       "2             Alexis Sánchez\\n Forward — Arsenal  $17.6m NaN  12   7   29   \n",
       "3        Yaya Touré\\n Midfield — Manchester City  $16.6m  18   7   1   19   \n",
       "4  Ángel Di María\\n Midfield — Manchester United  $15.0m  13   3 NaN   13   \n",
       "5          Santiago Cazorla\\n Midfield — Arsenal  $14.8m  20   4 NaN   20   \n",
       "6       David Silva\\n Midfield — Manchester City  $14.3m  15   6   2   11   \n",
       "7             Cesc Fàbregas\\n Midfield — Chelsea  $14.0m  20   2  14   10   \n",
       "8           Saido Berahino\\n Forward — West Brom  $13.8m  21   9   0   20   \n",
       "9          Steven Gerrard\\n Midfield — Liverpool  $13.8m  20   5   1   11   \n",
       "\n",
       "     PPG       P  \n",
       "0  13.12  209.98  \n",
       "1  13.05  274.04  \n",
       "2  11.19  223.86  \n",
       "3  10.99  197.91  \n",
       "4  10.17  132.23  \n",
       "5   9.97     NaN  \n",
       "6  10.35  155.26  \n",
       "7  10.47  209.49  \n",
       "8   7.02  147.43  \n",
       "9   7.50  150.01  "
      ]
     },
     "execution_count": 2,
     "metadata": {},
     "output_type": "execute_result"
    }
   ],
   "source": [
    "import pandas as pd\n",
    "\n",
    "df = pd.read_csv('https://raw.githubusercontent.com/rasbt/python_reference/master/Data/some_soccer_data.csv')\n",
    "df"
   ]
  },
  {
   "cell_type": "markdown",
   "metadata": {},
   "source": [
    "# If-tests"
   ]
  },
  {
   "cell_type": "markdown",
   "metadata": {},
   "source": [
    "I was recently asked how to do an if-test in pandas, that is, how to create an array of 1s and 0s depending on a condition, e.g., if `val` less than 0.5 -> 0, else -> 1. Using the boolean mask, that's pretty simple since `True` and `False` are integers after all."
   ]
  },
  {
   "cell_type": "code",
   "execution_count": 1,
   "metadata": {},
   "outputs": [
    {
     "data": {
      "text/plain": [
       "1"
      ]
     },
     "execution_count": 1,
     "metadata": {},
     "output_type": "execute_result"
    }
   ],
   "source": [
    "int(True)"
   ]
  },
  {
   "cell_type": "code",
   "execution_count": 2,
   "metadata": {},
   "outputs": [
    {
     "data": {
      "text/html": [
       "<table border=\"1\" class=\"dataframe\">\n",
       "  <thead>\n",
       "    <tr style=\"text-align: right;\">\n",
       "      <th></th>\n",
       "      <th>0</th>\n",
       "      <th>1</th>\n",
       "      <th>2</th>\n",
       "      <th>3</th>\n",
       "    </tr>\n",
       "  </thead>\n",
       "  <tbody>\n",
       "    <tr>\n",
       "      <th>0</th>\n",
       "      <td>2.0</td>\n",
       "      <td>0.30</td>\n",
       "      <td>4.00</td>\n",
       "      <td>5</td>\n",
       "    </tr>\n",
       "    <tr>\n",
       "      <th>1</th>\n",
       "      <td>0.8</td>\n",
       "      <td>0.03</td>\n",
       "      <td>0.02</td>\n",
       "      <td>5</td>\n",
       "    </tr>\n",
       "  </tbody>\n",
       "</table>\n",
""      ],
      "text/plain": [
       "     0     1     2  3\n",
       "0  2.0  0.30  4.00  5\n",
       "1  0.8  0.03  0.02  5"
      ]
     },
     "execution_count": 2,
     "metadata": {},
     "output_type": "execute_result"
    }
   ],
   "source": [
    "import pandas as pd\n",
    "\n",
    "a = [[2., .3, 4., 5.], [.8, .03, 0.02, 5.]]\n",
    "df = pd.DataFrame(a)\n",
    "df"
   ]
  },
  {
   "cell_type": "code",
   "execution_count": 3,
   "metadata": {},
   "outputs": [
    {
     "data": {
      "text/html": [
       "<table border=\"1\" class=\"dataframe\">\n",
       "  <thead>\n",
       "    <tr style=\"text-align: right;\">\n",
       "      <th></th>\n",
       "      <th>0</th>\n",
       "      <th>1</th>\n",
       "      <th>2</th>\n",
       "      <th>3</th>\n",
       "    </tr>\n",
       "  </thead>\n",
       "  <tbody>\n",
       "    <tr>\n",
       "      <th>0</th>\n",
       "      <td>False</td>\n",
       "      <td>False</td>\n",
       "      <td>False</td>\n",
       "      <td>False</td>\n",
       "    </tr>\n",
       "    <tr>\n",
       "      <th>1</th>\n",
       "      <td>False</td>\n",
       "      <td>True</td>\n",
       "      <td>True</td>\n",
       "      <td>False</td>\n",
       "    </tr>\n",
       "  </tbody>\n",
       "</table>\n",
""      ],
      "text/plain": [
       "       0      1      2      3\n",
       "0  False  False  False  False\n",
       "1  False   True   True  False"
      ]
     },
     "execution_count": 3,
     "metadata": {},
     "output_type": "execute_result"
    }
   ],
   "source": [
    "df = df <= 0.05\n",
    "df"
   ]
  },
  {
   "cell_type": "code",
   "execution_count": 4,
   "metadata": {},
   "outputs": [
    {
     "data": {
      "text/html": [
       "<table border=\"1\" class=\"dataframe\">\n",
       "  <thead>\n",
       "    <tr style=\"text-align: right;\">\n",
       "      <th></th>\n",
       "      <th>0</th>\n",
       "      <th>1</th>\n",
       "      <th>2</th>\n",
       "      <th>3</th>\n",
       "    </tr>\n",
       "  </thead>\n",
       "  <tbody>\n",
       "    <tr>\n",
       "      <th>0</th>\n",
       "      <td>0</td>\n",
       "      <td>0</td>\n",
       "      <td>0</td>\n",
       "      <td>0</td>\n",
       "    </tr>\n",
       "    <tr>\n",
       "      <th>1</th>\n",
       "      <td>0</td>\n",
       "      <td>1</td>\n",
       "      <td>1</td>\n",
       "      <td>0</td>\n",
       "    </tr>\n",
       "  </tbody>\n",
       "</table>\n",
""      ],
      "text/plain": [
       "   0  1  2  3\n",
       "0  0  0  0  0\n",
       "1  0  1  1  0"
      ]
     },
     "execution_count": 4,
     "metadata": {},
     "output_type": "execute_result"
    }
   ],
   "source": [
    "df.astype(int)"
   ]
  },
  {
   "cell_type": "markdown",
   "metadata": {
    "collapsed": true
   },
   "source": [
    "# References\n",
    "- https://nbviewer.org/github/rasbt/python_reference/blob/master/tutorials/things_in_pandas.ipynb"
   ]
  },
  {
   "cell_type": "code",
   "execution_count": null,
   "metadata": {},
   "outputs": [],
   "source": []
  }
 ],
 "metadata": {
  "kernelspec": {
   "display_name": "trainingAI",
   "language": "python",
   "name": "trainingai"
  },
  "language_info": {
   "codemirror_mode": {
    "name": "ipython",
    "version": 3
   },
   "file_extension": ".py",
   "mimetype": "text/x-python",
   "name": "python",
   "nbconvert_exporter": "python",
   "pygments_lexer": "ipython3",
   "version": "3.9.7"
  },
  "toc": {
   "base_numbering": 1,
   "nav_menu": {},
   "number_sections": true,
   "sideBar": true,
   "skip_h1_title": false,
   "title_cell": "Table of Contents",
   "title_sidebar": "Contents",
   "toc_cell": false,
   "toc_position": {
    "height": "calc(100% - 180px)",
    "left": "10px",
    "top": "150px",
    "width": "328.8px"
   },
   "toc_section_display": true,
   "toc_window_display": true
  },
  "varInspector": {
   "cols": {
    "lenName": 16,
    "lenType": 16,
    "lenVar": 40
   },
   "kernels_config": {
    "python": {
     "delete_cmd_postfix": "",
     "delete_cmd_prefix": "del ",
     "library": "var_list.py",
     "varRefreshCmd": "print(var_dic_list())"
    },
    "r": {
     "delete_cmd_postfix": ") ",
     "delete_cmd_prefix": "rm(",
     "library": "var_list.r",
     "varRefreshCmd": "cat(var_dic_list()) "
    }
   },
   "types_to_exclude": [
    "module",
    "function",
    "builtin_function_or_method",
    "instance",
    "_Feature"
   ],
   "window_display": false
  }
 },
 "nbformat": 4,
 "nbformat_minor": 1
}
