{
 "cells": [
  {
   "cell_type": "code",
   "execution_count": 1,
   "metadata": {
    "ExecuteTime": {
     "end_time": "2023-07-16T14:03:04.062573Z",
     "start_time": "2023-07-16T14:03:03.529580Z"
    },
    "id": "C3idtCWZSe2l"
   },
   "outputs": [],
   "source": [
    "import pandas as pd\n",
    "import time\n",
    "import numpy as np"
   ]
  },
  {
   "cell_type": "markdown",
   "metadata": {
    "id": "_rIvc54NyMlj"
   },
   "source": [
    "The first dataset is the Poker card game dataset which is shown below:\n",
    "\n"
   ]
  },
  {
   "cell_type": "code",
   "execution_count": 2,
   "metadata": {
    "ExecuteTime": {
     "end_time": "2023-07-16T14:03:04.105892Z",
     "start_time": "2023-07-16T14:03:04.064908Z"
    },
    "colab": {
     "base_uri": "https://localhost:8080/",
     "height": 206
    },
    "id": "WdjH7SI3Sg6k",
    "outputId": "ec0cb24b-99c2-4c1a-eed0-720153fced00",
    "scrolled": true
   },
   "outputs": [
    {
     "data": {
      "text/html": [
       "<div>\n",
       "<style scoped>\n",
       "    .dataframe tbody tr th:only-of-type {\n",
       "        vertical-align: middle;\n",
       "    }\n",
       "\n",
       "    .dataframe tbody tr th {\n",
       "        vertical-align: top;\n",
       "    }\n",
       "\n",
       "    .dataframe thead th {\n",
       "        text-align: right;\n",
       "    }\n",
       "</style>\n",
       "<table border=\"1\" class=\"dataframe\">\n",
       "  <thead>\n",
       "    <tr style=\"text-align: right;\">\n",
       "      <th></th>\n",
       "      <th>S1</th>\n",
       "      <th>R1</th>\n",
       "      <th>S2</th>\n",
       "      <th>R2</th>\n",
       "      <th>S3</th>\n",
       "      <th>R3</th>\n",
       "      <th>S4</th>\n",
       "      <th>R4</th>\n",
       "      <th>S5</th>\n",
       "      <th>R5</th>\n",
       "      <th>Class</th>\n",
       "    </tr>\n",
       "  </thead>\n",
       "  <tbody>\n",
       "    <tr>\n",
       "      <th>0</th>\n",
       "      <td>1</td>\n",
       "      <td>10</td>\n",
       "      <td>1</td>\n",
       "      <td>11</td>\n",
       "      <td>1</td>\n",
       "      <td>13</td>\n",
       "      <td>1</td>\n",
       "      <td>12</td>\n",
       "      <td>1</td>\n",
       "      <td>1</td>\n",
       "      <td>9</td>\n",
       "    </tr>\n",
       "    <tr>\n",
       "      <th>1</th>\n",
       "      <td>2</td>\n",
       "      <td>11</td>\n",
       "      <td>2</td>\n",
       "      <td>13</td>\n",
       "      <td>2</td>\n",
       "      <td>10</td>\n",
       "      <td>2</td>\n",
       "      <td>12</td>\n",
       "      <td>2</td>\n",
       "      <td>1</td>\n",
       "      <td>9</td>\n",
       "    </tr>\n",
       "    <tr>\n",
       "      <th>2</th>\n",
       "      <td>3</td>\n",
       "      <td>12</td>\n",
       "      <td>3</td>\n",
       "      <td>11</td>\n",
       "      <td>3</td>\n",
       "      <td>13</td>\n",
       "      <td>3</td>\n",
       "      <td>10</td>\n",
       "      <td>3</td>\n",
       "      <td>1</td>\n",
       "      <td>9</td>\n",
       "    </tr>\n",
       "    <tr>\n",
       "      <th>3</th>\n",
       "      <td>4</td>\n",
       "      <td>10</td>\n",
       "      <td>4</td>\n",
       "      <td>11</td>\n",
       "      <td>4</td>\n",
       "      <td>1</td>\n",
       "      <td>4</td>\n",
       "      <td>13</td>\n",
       "      <td>4</td>\n",
       "      <td>12</td>\n",
       "      <td>9</td>\n",
       "    </tr>\n",
       "    <tr>\n",
       "      <th>4</th>\n",
       "      <td>4</td>\n",
       "      <td>1</td>\n",
       "      <td>4</td>\n",
       "      <td>13</td>\n",
       "      <td>4</td>\n",
       "      <td>12</td>\n",
       "      <td>4</td>\n",
       "      <td>11</td>\n",
       "      <td>4</td>\n",
       "      <td>10</td>\n",
       "      <td>9</td>\n",
       "    </tr>\n",
       "  </tbody>\n",
       "</table>\n",
       "</div>"
      ],
      "text/plain": [
       "   S1  R1  S2  R2  S3  R3  S4  R4  S5  R5  Class\n",
       "0   1  10   1  11   1  13   1  12   1   1      9\n",
       "1   2  11   2  13   2  10   2  12   2   1      9\n",
       "2   3  12   3  11   3  13   3  10   3   1      9\n",
       "3   4  10   4  11   4   1   4  13   4  12      9\n",
       "4   4   1   4  13   4  12   4  11   4  10      9"
      ]
     },
     "execution_count": 2,
     "metadata": {},
     "output_type": "execute_result"
    }
   ],
   "source": [
    "poker_data = pd.read_csv('./poker_hand.csv')\n",
    "poker_data.head()"
   ]
  },
  {
   "cell_type": "markdown",
   "metadata": {
    "id": "S9vOeRXUyRMo"
   },
   "source": [
    "In each poker round, each player has five cards in hand, each one characterized by its symbol, which can be either hearts, diamonds, clubs, or spades, and its rank, which ranges from 1 to 13. The dataset consists of every possible combination of five cards one person can possess.\n",
    "\n",
    "* Sn: symbol of the n-th card where: 1 (Hearts), 2 (Diamonds), 3 (Clubs), 4 (Spades)\n",
    "* Rn: rank of the n-th card where: 1 (Ace), 2–10, 11 (Jack), 12 (Queen), 13 (King)"
   ]
  },
  {
   "cell_type": "markdown",
   "metadata": {
    "id": "FFg2bqKB2ObC"
   },
   "source": [
    "## 3. Iterate Effectively Through Pandas DataFrame\n"
   ]
  },
  {
   "cell_type": "markdown",
   "metadata": {
    "id": "T2oxGNcW2SNq"
   },
   "source": [
    "As a data scientist, you will need to iterate through your dataframe extensively, especially in the data preparation and exploration phase, so it is important to be able to do this efficiently, as it will save you much time and give space for more important work. We will walk through three methods to make your loops much faster and more efficient:\n",
    "\n",
    "* Looping using the .iterrows() function\n",
    "* Looping using the .apply() function\n",
    "* Vectorization\n"
   ]
  },
  {
   "cell_type": "markdown",
   "metadata": {
    "id": "SQjPBhCL2aDU"
   },
   "source": [
    "### 3.1. Looping effectively using .iterrows()\n",
    "Before we talk about how to use the .iterrows() function to improve the looping process, let’s refresh the notion of a generator function.\n",
    "\n",
    "Generators are a simple tool to create iterators. Inside the body of a generator, instead of return statements, you will find only yield() statements. There can be just one, or several yield() statements. Here, we can see a generator, city_name_generator(), that produces four city names. We assign the generator to the variable city_names for simplicity.\n",
    "\n"
   ]
  },
  {
   "cell_type": "code",
   "execution_count": 3,
   "metadata": {
    "ExecuteTime": {
     "end_time": "2023-07-16T14:03:04.113108Z",
     "start_time": "2023-07-16T14:03:04.109923Z"
    },
    "id": "Gs6UTJjqqLT-"
   },
   "outputs": [],
   "source": [
    "def city_name_generator():\n",
    "    yield ('New York')\n",
    "    yield ('London')\n",
    "    yield ('Tokyo')\n",
    "    yield ('Sao Paolo')\n",
    "\n",
    "\n",
    "city_names = city_name_generator()"
   ]
  },
  {
   "cell_type": "markdown",
   "metadata": {
    "id": "x7-XgpHX2fH7"
   },
   "source": [
    "To access the elements that the generator yields we can use Python’s next() function. Each time the next() command is used, the generator will produce the next value to yield, until there are no more values to yield. We here have 4 cities. Let’s run the next command four times and see what it returns:\n",
    "\n"
   ]
  },
  {
   "cell_type": "code",
   "execution_count": 4,
   "metadata": {
    "ExecuteTime": {
     "end_time": "2023-07-16T14:03:04.119220Z",
     "start_time": "2023-07-16T14:03:04.115247Z"
    },
    "colab": {
     "base_uri": "https://localhost:8080/",
     "height": 35
    },
    "id": "BdS9iCA2ESQu",
    "outputId": "8a25c76a-6fa2-47db-ddf9-977d7b57932f"
   },
   "outputs": [
    {
     "data": {
      "text/plain": [
       "'New York'"
      ]
     },
     "execution_count": 4,
     "metadata": {},
     "output_type": "execute_result"
    }
   ],
   "source": [
    "next(city_names)"
   ]
  },
  {
   "cell_type": "code",
   "execution_count": 5,
   "metadata": {
    "ExecuteTime": {
     "end_time": "2023-07-16T14:03:04.126084Z",
     "start_time": "2023-07-16T14:03:04.122015Z"
    },
    "colab": {
     "base_uri": "https://localhost:8080/",
     "height": 35
    },
    "id": "vRT4Eaz1GgUI",
    "outputId": "14fae336-6331-48e8-fb83-317d168014eb"
   },
   "outputs": [
    {
     "data": {
      "text/plain": [
       "'London'"
      ]
     },
     "execution_count": 5,
     "metadata": {},
     "output_type": "execute_result"
    }
   ],
   "source": [
    "next(city_names)"
   ]
  },
  {
   "cell_type": "code",
   "execution_count": 6,
   "metadata": {
    "ExecuteTime": {
     "end_time": "2023-07-16T14:03:04.132526Z",
     "start_time": "2023-07-16T14:03:04.128289Z"
    },
    "colab": {
     "base_uri": "https://localhost:8080/",
     "height": 35
    },
    "id": "hA6SCwAUGh79",
    "outputId": "0eaf8af0-f56f-4534-ffad-ce3c10590f4e"
   },
   "outputs": [
    {
     "data": {
      "text/plain": [
       "'Tokyo'"
      ]
     },
     "execution_count": 6,
     "metadata": {},
     "output_type": "execute_result"
    }
   ],
   "source": [
    "next(city_names)"
   ]
  },
  {
   "cell_type": "code",
   "execution_count": 7,
   "metadata": {
    "ExecuteTime": {
     "end_time": "2023-07-16T14:03:04.138998Z",
     "start_time": "2023-07-16T14:03:04.134597Z"
    },
    "colab": {
     "base_uri": "https://localhost:8080/",
     "height": 35
    },
    "id": "rKjG6CzhGjob",
    "outputId": "741af17b-186c-4ab0-d475-fe18e49cd5c9"
   },
   "outputs": [
    {
     "data": {
      "text/plain": [
       "'Sao Paolo'"
      ]
     },
     "execution_count": 7,
     "metadata": {},
     "output_type": "execute_result"
    }
   ],
   "source": [
    "next(city_names)"
   ]
  },
  {
   "cell_type": "markdown",
   "metadata": {
    "id": "5FFZfu_K2oP8"
   },
   "source": [
    "As we can see that every time we run the next() function it will print a new city name.\n",
    "\n"
   ]
  },
  {
   "cell_type": "markdown",
   "metadata": {
    "id": "Va18cE2T3Rvw"
   },
   "source": [
    "Let's go back to the .iterrows() function. The .iterrows() function is a property of every pandas DataFrame. When called, it produces a list with two elements. We will use this generator to iterate through each line of our poker DataFrame. The first element is the index of the row, while the second element contains a pandas Series of each feature of the row: the Symbol and the Rank for each of the five cards. It is very similar to the notion of the enumerate() function, which when applied to a list, returns each element along with its index.\n",
    "\n",
    "The most intuitive way to iterate through a Pandas DataFrame is to use the range() function, which is often called crude looping. This is shown with the code below:\n",
    "\n"
   ]
  },
  {
   "cell_type": "code",
   "execution_count": 8,
   "metadata": {
    "ExecuteTime": {
     "end_time": "2023-07-16T14:03:04.147926Z",
     "start_time": "2023-07-16T14:03:04.141484Z"
    },
    "colab": {
     "base_uri": "https://localhost:8080/"
    },
    "id": "r55m_fxePy5N",
    "outputId": "2432444e-a802-4e92-e7d1-fd0146b578c3"
   },
   "outputs": [
    {
     "name": "stdout",
     "output_type": "stream",
     "text": [
      "Time using range(): 0.0023059844970703125 sec\n"
     ]
    }
   ],
   "source": [
    "start_time = time.time()\n",
    "for index in range(poker_data.shape[0]):\n",
    "    next\n",
    "print(\"Time using range(): {} sec\".format(time.time() - start_time))"
   ]
  },
  {
   "cell_type": "markdown",
   "metadata": {
    "id": "gFaF1Z-13Way"
   },
   "source": [
    "One smarter way to iterate through a pandas DataFrame is to use the **.iterrows()** function, which is optimized for this task. We simply define the **‘for’** loop with two iterators, one for the number of each row and the other for all the values.\n",
    "\n",
    "Inside the loop, the **next()** command indicates that the loop moves to the next value of the iterator, without actually doing something."
   ]
  },
  {
   "cell_type": "code",
   "execution_count": 9,
   "metadata": {
    "ExecuteTime": {
     "end_time": "2023-07-16T14:03:04.946845Z",
     "start_time": "2023-07-16T14:03:04.152784Z"
    },
    "colab": {
     "base_uri": "https://localhost:8080/"
    },
    "id": "saqXt53lNPDQ",
    "outputId": "2ac4354c-25d1-4032-a9eb-df7d81e8a7d2"
   },
   "outputs": [
    {
     "name": "stdout",
     "output_type": "stream",
     "text": [
      "Time using .iterrows(): 0.790924072265625 sec\n"
     ]
    }
   ],
   "source": [
    "data_generator = poker_data.iterrows()\n",
    "start_time = time.time()\n",
    "for index, values in data_generator:\n",
    "    next\n",
    "print(\"Time using .iterrows(): {} sec\".format(time.time() - start_time))"
   ]
  },
  {
   "cell_type": "markdown",
   "metadata": {
    "id": "mD6O-NjL3hah"
   },
   "source": [
    "Comparing the two computational times we can also notice that the use of .iterrows() does not improve the speed of iterating through pandas DataFrame. It is very useful though when we need a cleaner way to use the values of each row while iterating through the dataset.\n"
   ]
  },
  {
   "cell_type": "markdown",
   "metadata": {
    "id": "0fqYrl6F3q-_"
   },
   "source": [
    "### 3.2. Looping effectively using .apply()"
   ]
  },
  {
   "cell_type": "markdown",
   "metadata": {
    "id": "x6Y4ACXY3pDX"
   },
   "source": [
    "Now we will use the **.apply()** function to be able to perform a specific task while iterating through a pandas DataFrame. The **.apply()** function does exactly what it says; it applies another function to the whole DataFrame.\n",
    "\n",
    "The syntax of the **.apply()** function is simple: we create a mapping, using a lambda function in this case, and then declare the function we want to apply to every cell. Here, we’re applying the square root function to every cell of the DataFrame. In terms of speed, it matches the speed of just using the NumPy sqrt() function over the whole DataFrame.\n"
   ]
  },
  {
   "cell_type": "code",
   "execution_count": 10,
   "metadata": {
    "ExecuteTime": {
     "end_time": "2023-07-16T14:03:04.969327Z",
     "start_time": "2023-07-16T14:03:04.949134Z"
    },
    "colab": {
     "base_uri": "https://localhost:8080/",
     "height": 206
    },
    "id": "GVixY9NAP7JI",
    "outputId": "447e5a58-91e1-42d1-cfa4-21582df6b580"
   },
   "outputs": [
    {
     "data": {
      "text/html": [
       "<div>\n",
       "<style scoped>\n",
       "    .dataframe tbody tr th:only-of-type {\n",
       "        vertical-align: middle;\n",
       "    }\n",
       "\n",
       "    .dataframe tbody tr th {\n",
       "        vertical-align: top;\n",
       "    }\n",
       "\n",
       "    .dataframe thead th {\n",
       "        text-align: right;\n",
       "    }\n",
       "</style>\n",
       "<table border=\"1\" class=\"dataframe\">\n",
       "  <thead>\n",
       "    <tr style=\"text-align: right;\">\n",
       "      <th></th>\n",
       "      <th>S1</th>\n",
       "      <th>R1</th>\n",
       "      <th>S2</th>\n",
       "      <th>R2</th>\n",
       "      <th>S3</th>\n",
       "      <th>R3</th>\n",
       "      <th>S4</th>\n",
       "      <th>R4</th>\n",
       "      <th>S5</th>\n",
       "      <th>R5</th>\n",
       "      <th>Class</th>\n",
       "    </tr>\n",
       "  </thead>\n",
       "  <tbody>\n",
       "    <tr>\n",
       "      <th>0</th>\n",
       "      <td>1.000000</td>\n",
       "      <td>3.162278</td>\n",
       "      <td>1.000000</td>\n",
       "      <td>3.316625</td>\n",
       "      <td>1.000000</td>\n",
       "      <td>3.605551</td>\n",
       "      <td>1.000000</td>\n",
       "      <td>3.464102</td>\n",
       "      <td>1.000000</td>\n",
       "      <td>1.000000</td>\n",
       "      <td>3.0</td>\n",
       "    </tr>\n",
       "    <tr>\n",
       "      <th>1</th>\n",
       "      <td>1.414214</td>\n",
       "      <td>3.316625</td>\n",
       "      <td>1.414214</td>\n",
       "      <td>3.605551</td>\n",
       "      <td>1.414214</td>\n",
       "      <td>3.162278</td>\n",
       "      <td>1.414214</td>\n",
       "      <td>3.464102</td>\n",
       "      <td>1.414214</td>\n",
       "      <td>1.000000</td>\n",
       "      <td>3.0</td>\n",
       "    </tr>\n",
       "    <tr>\n",
       "      <th>2</th>\n",
       "      <td>1.732051</td>\n",
       "      <td>3.464102</td>\n",
       "      <td>1.732051</td>\n",
       "      <td>3.316625</td>\n",
       "      <td>1.732051</td>\n",
       "      <td>3.605551</td>\n",
       "      <td>1.732051</td>\n",
       "      <td>3.162278</td>\n",
       "      <td>1.732051</td>\n",
       "      <td>1.000000</td>\n",
       "      <td>3.0</td>\n",
       "    </tr>\n",
       "    <tr>\n",
       "      <th>3</th>\n",
       "      <td>2.000000</td>\n",
       "      <td>3.162278</td>\n",
       "      <td>2.000000</td>\n",
       "      <td>3.316625</td>\n",
       "      <td>2.000000</td>\n",
       "      <td>1.000000</td>\n",
       "      <td>2.000000</td>\n",
       "      <td>3.605551</td>\n",
       "      <td>2.000000</td>\n",
       "      <td>3.464102</td>\n",
       "      <td>3.0</td>\n",
       "    </tr>\n",
       "    <tr>\n",
       "      <th>4</th>\n",
       "      <td>2.000000</td>\n",
       "      <td>1.000000</td>\n",
       "      <td>2.000000</td>\n",
       "      <td>3.605551</td>\n",
       "      <td>2.000000</td>\n",
       "      <td>3.464102</td>\n",
       "      <td>2.000000</td>\n",
       "      <td>3.316625</td>\n",
       "      <td>2.000000</td>\n",
       "      <td>3.162278</td>\n",
       "      <td>3.0</td>\n",
       "    </tr>\n",
       "  </tbody>\n",
       "</table>\n",
       "</div>"
      ],
      "text/plain": [
       "         S1        R1        S2        R2        S3        R3        S4  \\\n",
       "0  1.000000  3.162278  1.000000  3.316625  1.000000  3.605551  1.000000   \n",
       "1  1.414214  3.316625  1.414214  3.605551  1.414214  3.162278  1.414214   \n",
       "2  1.732051  3.464102  1.732051  3.316625  1.732051  3.605551  1.732051   \n",
       "3  2.000000  3.162278  2.000000  3.316625  2.000000  1.000000  2.000000   \n",
       "4  2.000000  1.000000  2.000000  3.605551  2.000000  3.464102  2.000000   \n",
       "\n",
       "         R4        S5        R5  Class  \n",
       "0  3.464102  1.000000  1.000000    3.0  \n",
       "1  3.464102  1.414214  1.000000    3.0  \n",
       "2  3.162278  1.732051  1.000000    3.0  \n",
       "3  3.605551  2.000000  3.464102    3.0  \n",
       "4  3.316625  2.000000  3.162278    3.0  "
      ]
     },
     "execution_count": 10,
     "metadata": {},
     "output_type": "execute_result"
    }
   ],
   "source": [
    "data_sqrt = poker_data.apply(lambda x: np.sqrt(x), axis =0 )\n",
    "data_sqrt.head()"
   ]
  },
  {
   "cell_type": "markdown",
   "metadata": {
    "id": "dMg4d5SV4IL-"
   },
   "source": [
    "This is a simple example since we would like to apply this function to the dataframe.\n",
    "\n",
    "But what happens when the function of interest is taking more than one cell as an input? For example, what if we want to calculate the sum of the rank of all the cards in each hand? In this case, we will use the .apply() function the same way as we did before, but we need to add ‘axis=1’ at the end of the line to specify we’re applying the function to each row.\n",
    "\n"
   ]
  },
  {
   "cell_type": "code",
   "execution_count": 11,
   "metadata": {
    "ExecuteTime": {
     "end_time": "2023-07-16T14:03:05.172493Z",
     "start_time": "2023-07-16T14:03:04.971859Z"
    },
    "colab": {
     "base_uri": "https://localhost:8080/"
    },
    "id": "6dzHsYQdjtfa",
    "outputId": "4e4351c3-174a-4961-83da-1627f5db1e89"
   },
   "outputs": [
    {
     "name": "stdout",
     "output_type": "stream",
     "text": [
      "Time using .apply(): 0.1969468593597412 sec\n"
     ]
    }
   ],
   "source": [
    "apply_start_time = time.time()\n",
    "poker_data[['R1', 'R2', 'R3', 'R4', 'R5']].apply(lambda x: sum(x), axis=1)\n",
    "apply_end_time = time.time()\n",
    "apply_time = apply_end_time - apply_start_time\n",
    "print(\"Time using .apply(): {} sec\".format(apply_time))"
   ]
  },
  {
   "cell_type": "markdown",
   "metadata": {
    "id": "6Jg-EIJV4McK"
   },
   "source": [
    "Then, we will use the .iterrows() function we saw previously, and compare their efficiency.\n",
    "\n"
   ]
  },
  {
   "cell_type": "code",
   "execution_count": 12,
   "metadata": {
    "ExecuteTime": {
     "end_time": "2023-07-16T14:03:06.390249Z",
     "start_time": "2023-07-16T14:03:05.175168Z"
    },
    "colab": {
     "base_uri": "https://localhost:8080/"
    },
    "id": "sOkXe8gxrXOX",
    "outputId": "2b901612-ffb1-438d-952c-04b9ce221c62"
   },
   "outputs": [
    {
     "name": "stdout",
     "output_type": "stream",
     "text": [
      "Time using .iterrows(): 1.2113888263702393 sec\n"
     ]
    }
   ],
   "source": [
    "for_loop_start_time = time.time()\n",
    "for ind, value in poker_data.iterrows():\n",
    "    sum([value[1], value[3], value[5], value[7], value[9]])\n",
    "for_loop_end_time = time.time()\n",
    "\n",
    "for_loop_time = for_loop_end_time - for_loop_start_time\n",
    "print(\"Time using .iterrows(): {} sec\".format(for_loop_time))"
   ]
  },
  {
   "cell_type": "markdown",
   "metadata": {
    "id": "V3FUIUts4PBG"
   },
   "source": [
    "Using the .apply() function is significantly faster than the .iterrows() function, with a magnitude of around 400 percent, which is a massive improvement!\n",
    "\n"
   ]
  },
  {
   "cell_type": "code",
   "execution_count": 13,
   "metadata": {
    "ExecuteTime": {
     "end_time": "2023-07-16T14:03:06.396167Z",
     "start_time": "2023-07-16T14:03:06.392850Z"
    },
    "colab": {
     "base_uri": "https://localhost:8080/"
    },
    "id": "JGFa3H3ysxmE",
    "outputId": "566e5293-2da4-4f63-9b0a-8e065689326f"
   },
   "outputs": [
    {
     "name": "stdout",
     "output_type": "stream",
     "text": [
      "The differnce: 515.0841045693084 %\n"
     ]
    }
   ],
   "source": [
    "print('The differnce: {} %'.format((for_loop_time - apply_time) / apply_time * 100))"
   ]
  },
  {
   "cell_type": "markdown",
   "metadata": {
    "id": "7FE-SES04VZc"
   },
   "source": [
    "As we did with rows, we can do exactly the same thing for the columns; apply one function to each column. By replacing the axis=1 with axis=0, we can apply the sum function on every column.\n",
    "\n"
   ]
  },
  {
   "cell_type": "code",
   "execution_count": 14,
   "metadata": {
    "ExecuteTime": {
     "end_time": "2023-07-16T14:03:06.416823Z",
     "start_time": "2023-07-16T14:03:06.398738Z"
    },
    "colab": {
     "base_uri": "https://localhost:8080/"
    },
    "id": "TqSssrebte0e",
    "outputId": "9aa644fc-cb77-4e73-823b-fd749617722e"
   },
   "outputs": [
    {
     "name": "stdout",
     "output_type": "stream",
     "text": [
      "Time using .apply(): 0.01450800895690918 sec\n"
     ]
    }
   ],
   "source": [
    "apply_start_time = time.time()\n",
    "poker_data[['R1', 'R2', 'R3', 'R4', 'R5']].apply(lambda x: sum(x), axis=0)\n",
    "apply_end_time = time.time()\n",
    "apply_time = apply_end_time - apply_start_time\n",
    "print(\"Time using .apply(): {} sec\".format(apply_time))"
   ]
  },
  {
   "cell_type": "markdown",
   "metadata": {
    "id": "KybwcTHL4YNl"
   },
   "source": [
    "By comparing the **.apply()** function with the native panda's function for summing over rows, we can see that pandas’ native .sum() functions perform the same operation faster.\n",
    "\n"
   ]
  },
  {
   "cell_type": "code",
   "execution_count": 15,
   "metadata": {
    "ExecuteTime": {
     "end_time": "2023-07-16T14:03:06.425881Z",
     "start_time": "2023-07-16T14:03:06.419042Z"
    },
    "colab": {
     "base_uri": "https://localhost:8080/"
    },
    "id": "c9N3WsQDP_kF",
    "outputId": "7a395b28-fb3f-4e58-8189-d24e9714fc62"
   },
   "outputs": [
    {
     "name": "stdout",
     "output_type": "stream",
     "text": [
      "Time using pandas: 0.0030181407928466797 sec\n"
     ]
    }
   ],
   "source": [
    "pandas_start_time = time.time()\n",
    "poker_data[['R1', 'R1', 'R3', 'R4', 'R5']].sum(axis=0)\n",
    "pandas_end_time = time.time()\n",
    "pandas_time = pandas_end_time - pandas_start_time\n",
    "print(\"Time using pandas: {} sec\".format(pandas_time))"
   ]
  },
  {
   "cell_type": "code",
   "execution_count": 16,
   "metadata": {
    "ExecuteTime": {
     "end_time": "2023-07-16T14:03:06.432237Z",
     "start_time": "2023-07-16T14:03:06.428969Z"
    },
    "colab": {
     "base_uri": "https://localhost:8080/"
    },
    "id": "89czJRWaQC83",
    "outputId": "1e30f4ea-2d55-4035-9def-e2d587b4296d"
   },
   "outputs": [
    {
     "name": "stdout",
     "output_type": "stream",
     "text": [
      "The differnce: 380.6935776917608 %\n"
     ]
    }
   ],
   "source": [
    "print('The differnce: {} %'.format((apply_time - pandas_time) / pandas_time * 100))"
   ]
  },
  {
   "cell_type": "markdown",
   "metadata": {
    "id": "ul9vEJjD40cf"
   },
   "source": [
    "In conclusion, we observe that the .apply() function performs faster when we want to iterate through all the rows of a pandas DataFrame, but is slower when we perform the same operation through a column.\n",
    "\n"
   ]
  },
  {
   "cell_type": "markdown",
   "metadata": {
    "id": "5RjLUtkmUuhy"
   },
   "source": [
    "### 3.3.Looping effectively using vectorization"
   ]
  },
  {
   "cell_type": "markdown",
   "metadata": {
    "id": "k1sJKs2d49tX"
   },
   "source": [
    "To understand how we can reduce the amount of iteration performed by the function, recall that the fundamental units of Pandas, DataFrames, and Series, are both based on arrays. Pandas perform more efficiently when an operation is performed to a whole array than to each value separately or sequentially. This can be achieved through vectorization. Vectorization is the process of executing operations on entire arrays.\n",
    "\n",
    "In the code below we want to calculate the sum of the ranks of all the cards in each hand. In order to do that, we slice the poker dataset keeping only the columns that contain the ranks of each card. Then, we call the built-in .sum() property of the DataFrame, using the parameter axis = 1 to denote that we want the sum for each row. In the end, we print the sum of the first five rows of the data.\n",
    "\n"
   ]
  },
  {
   "cell_type": "code",
   "execution_count": 17,
   "metadata": {
    "ExecuteTime": {
     "end_time": "2023-07-16T14:03:06.441144Z",
     "start_time": "2023-07-16T14:03:06.434631Z"
    },
    "colab": {
     "base_uri": "https://localhost:8080/"
    },
    "id": "QsTG45mKQ-Mi",
    "outputId": "1acedf98-4a2a-4f9b-d04c-f4dc062baf52"
   },
   "outputs": [
    {
     "name": "stdout",
     "output_type": "stream",
     "text": [
      "Time using pandas vectorization: 0.00243377685546875 sec\n"
     ]
    }
   ],
   "source": [
    "start_time_vectorization = time.time()\n",
    "\n",
    "poker_data[['R1', 'R2', 'R3', 'R4', 'R5']].sum(axis=1)\n",
    "end_time_vectorization = time.time()\n",
    "\n",
    "vectorization_time = end_time_vectorization  - start_time_vectorization\n",
    "print(\"Time using pandas vectorization: {} sec\".format(vectorization_time))"
   ]
  },
  {
   "cell_type": "markdown",
   "metadata": {
    "id": "ljv_-ySq7qRL"
   },
   "source": [
    "We saw previously various methods that perform functions applied to a DataFrame faster than simply iterating through all the rows of the DataFrame. Our goal is to find the most efficient method to perform this task.\n",
    "\n"
   ]
  },
  {
   "cell_type": "markdown",
   "metadata": {
    "id": "3H338N5h7wgS"
   },
   "source": [
    "Using .iterrows() to loop through the DataFrame:\n"
   ]
  },
  {
   "cell_type": "code",
   "execution_count": 18,
   "metadata": {
    "ExecuteTime": {
     "end_time": "2023-07-16T14:03:07.602935Z",
     "start_time": "2023-07-16T14:03:06.443482Z"
    },
    "colab": {
     "base_uri": "https://localhost:8080/"
    },
    "id": "kyivEyu_V1OO",
    "outputId": "816b1050-4228-42e2-a81c-164b75cab419"
   },
   "outputs": [
    {
     "name": "stdout",
     "output_type": "stream",
     "text": [
      "Time using .iterrows() 1.1556081771850586 seconds \n"
     ]
    }
   ],
   "source": [
    "data_generator = poker_data.iterrows()\n",
    "\n",
    "start_time_iterrows = time.time()\n",
    "\n",
    "for index, value in data_generator:\n",
    "    sum([value[1], value[3], value[5], value[7]])\n",
    "\n",
    "end_time_iterrows = time.time()\n",
    "iterrows_time = end_time_iterrows - start_time_iterrows\n",
    "print(\"Time using .iterrows() {} seconds \" .format(iterrows_time))"
   ]
  },
  {
   "cell_type": "markdown",
   "metadata": {
    "id": "0FURW1ta71Mj"
   },
   "source": [
    "Using the .apply() mehtod\n"
   ]
  },
  {
   "cell_type": "code",
   "execution_count": 19,
   "metadata": {
    "ExecuteTime": {
     "end_time": "2023-07-16T14:03:07.800792Z",
     "start_time": "2023-07-16T14:03:07.605147Z"
    },
    "colab": {
     "base_uri": "https://localhost:8080/"
    },
    "id": "M4rz9TNIWI1m",
    "outputId": "8434927d-9217-4c07-c08d-4ec2f97ba4db"
   },
   "outputs": [
    {
     "name": "stdout",
     "output_type": "stream",
     "text": [
      "Time using apply() 0.19189000129699707 seconds\n"
     ]
    }
   ],
   "source": [
    "start_time_apply = time.time()\n",
    "poker_data[['R1', 'R2', 'R3', 'R4', 'R5']].apply(lambda x: sum(x), axis=1)\n",
    "end_time_apply = time.time()\n",
    "\n",
    "apply_time = end_time_apply - start_time_apply\n",
    "\n",
    "print(\"Time using apply() {} seconds\"  .format(apply_time))"
   ]
  },
  {
   "cell_type": "markdown",
   "metadata": {
    "id": "WO9COAX876tv"
   },
   "source": [
    "Comparing the time it takes to sum the ranks of all the cards in each hand using vectorization, the .iterrows() function, and the .apply() function, we can see that the vectorization method performs much better.\n",
    "\n",
    "We can also use another vectorization method to effectively iterate through the DataFrame which is using Numpy arrays to vectorize the DataFrame.\n",
    "\n",
    "The NumPy library, which defines itself as a “fundamental package for scientific computing in Python”, performs operations under the hood in optimized, pre-compiled C code. Similar to pandas working with arrays, NumPy operates on arrays called ndarrays. A major difference between Series and ndarrays is that ndarrays leave out many operations such as indexing, data type checking, etc. As a result, operations on NumPy arrays can be significantly faster than operations on pandas Series. NumPy arrays can be used in place of the pandas Series when the additional functionality offered by the pandas Series isn’t critical.\n",
    "\n",
    "For the problems we explore in this article, we could use NumPy ndarrays instead of the pandas series. The question at stake is whether this would be more efficient or not.\n",
    "\n",
    "Again, we will calculate the sum of the ranks of all the cards in each hand. We convert our rank arrays from pandas Series to NumPy arrays simply by using the .values method of pandas Series, which returns a pandas Series as a NumPy ndarray. As with vectorization on the series, passing the NumPy array directly into the function will lead pandas to apply the function to the entire vector.\n",
    "\n"
   ]
  },
  {
   "cell_type": "code",
   "execution_count": 20,
   "metadata": {
    "ExecuteTime": {
     "end_time": "2023-07-16T14:03:07.808553Z",
     "start_time": "2023-07-16T14:03:07.803191Z"
    },
    "colab": {
     "base_uri": "https://localhost:8080/"
    },
    "id": "wJaJBbiI5Q5M",
    "outputId": "27ca2ac9-9a87-4a3d-8b0d-2f1ec772a7d4"
   },
   "outputs": [
    {
     "name": "stdout",
     "output_type": "stream",
     "text": [
      "Time using NumPy vectorization: 0.001708984375 sec\n"
     ]
    }
   ],
   "source": [
    "start_time = time.time()\n",
    "\n",
    "poker_data[['R1', 'R2', 'R3', 'R4', 'R5']].values.sum(axis=1)\n",
    "\n",
    "print(\"Time using NumPy vectorization: {} sec\" .format(time.time() - start_time))"
   ]
  },
  {
   "cell_type": "code",
   "execution_count": 21,
   "metadata": {
    "ExecuteTime": {
     "end_time": "2023-07-16T14:03:07.816198Z",
     "start_time": "2023-07-16T14:03:07.810844Z"
    },
    "colab": {
     "base_uri": "https://localhost:8080/"
    },
    "id": "OVGS_FGb5eeV",
    "outputId": "e8635e7b-ef4a-42a5-b4b2-ddca0778cd56"
   },
   "outputs": [
    {
     "name": "stdout",
     "output_type": "stream",
     "text": [
      "Time using the pandas vectorization 0.002112865447998047 seconds\n"
     ]
    }
   ],
   "source": [
    "start_time = time.time()\n",
    "poker_data[['R1', 'R2', 'R3', 'R4', 'R5']].sum(axis=1)\n",
    "print(\"Time using the pandas vectorization %s seconds\" % (time.time() - start_time))"
   ]
  },
  {
   "cell_type": "markdown",
   "metadata": {
    "id": "lXeC6MGF8MfY"
   },
   "source": [
    "# Conclusions\n",
    "* Using **.iterrows()** does not improve the speed of iterating through the DataFrame but it is more efficient.\n",
    "* The **.apply()** function performs faster when we want to iterate through all the rows of a pandas DataFrame, but is slower when we perform the same operation through a column.\n",
    "* Vectorizing over the pandas series achieves the overwhelming majority of optimization needs for everyday calculations. However, if speed is of the highest priority, we can call in reinforcements in the form of the NumPy Python library."
   ]
  },
  {
   "cell_type": "markdown",
   "metadata": {},
   "source": [
    "# References"
   ]
  },
  {
   "cell_type": "markdown",
   "metadata": {},
   "source": [
    "- https://github.com/timmajani/Efficient-Python-for-Data-Scientists/blob/main/Best_Practices_To_Use_Pandas_Efficiently_As_A_Data_Scientist.ipynb"
   ]
  },
  {
   "cell_type": "code",
   "execution_count": null,
   "metadata": {},
   "outputs": [],
   "source": []
  }
 ],
 "metadata": {
  "colab": {
   "authorship_tag": "ABX9TyMJJw+k5hjY8nDaKiFPp/4A",
   "include_colab_link": true,
   "provenance": []
  },
  "gpuClass": "standard",
  "kernelspec": {
   "display_name": "Python 3 (ipykernel)",
   "language": "python",
   "name": "python3"
  },
  "language_info": {
   "codemirror_mode": {
    "name": "ipython",
    "version": 3
   },
   "file_extension": ".py",
   "mimetype": "text/x-python",
   "name": "python",
   "nbconvert_exporter": "python",
   "pygments_lexer": "ipython3",
   "version": "3.10.4"
  },
  "toc": {
   "base_numbering": 1,
   "nav_menu": {},
   "number_sections": true,
   "sideBar": true,
   "skip_h1_title": false,
   "title_cell": "Table of Contents",
   "title_sidebar": "Contents",
   "toc_cell": false,
   "toc_position": {
    "height": "calc(100% - 180px)",
    "left": "10px",
    "top": "150px",
    "width": "201.067px"
   },
   "toc_section_display": true,
   "toc_window_display": true
  },
  "varInspector": {
   "cols": {
    "lenName": 16,
    "lenType": 16,
    "lenVar": 40
   },
   "kernels_config": {
    "python": {
     "delete_cmd_postfix": "",
     "delete_cmd_prefix": "del ",
     "library": "var_list.py",
     "varRefreshCmd": "print(var_dic_list())"
    },
    "r": {
     "delete_cmd_postfix": ") ",
     "delete_cmd_prefix": "rm(",
     "library": "var_list.r",
     "varRefreshCmd": "cat(var_dic_list()) "
    }
   },
   "types_to_exclude": [
    "module",
    "function",
    "builtin_function_or_method",
    "instance",
    "_Feature"
   ],
   "window_display": false
  }
 },
 "nbformat": 4,
 "nbformat_minor": 1
}
