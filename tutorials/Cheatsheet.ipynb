{
 "cells": [
  {
   "cell_type": "markdown",
   "metadata": {
    "toc": true
   },
   "source": [
    "<h1>Table of Contents<span class=\"tocSkip\"></span></h1>\n",
    "<div class=\"toc\"><ul class=\"toc-item\"><li><span><a href=\"#Introduction\" data-toc-modified-id=\"Introduction-1\"><span class=\"toc-item-num\">1&nbsp;&nbsp;</span>Introduction</a></span><ul class=\"toc-item\"><li><span><a href=\"#How-to-reshuffle-dataset\" data-toc-modified-id=\"How-to-reshuffle-dataset-1.1\"><span class=\"toc-item-num\">1.1&nbsp;&nbsp;</span>How to reshuffle dataset</a></span></li><li><span><a href=\"#General-global-options\" data-toc-modified-id=\"General-global-options-1.2\"><span class=\"toc-item-num\">1.2&nbsp;&nbsp;</span>General global options</a></span></li><li><span><a href=\"#Creating-a-pandas-dataset-from-scratch\" data-toc-modified-id=\"Creating-a-pandas-dataset-from-scratch-1.3\"><span class=\"toc-item-num\">1.3&nbsp;&nbsp;</span>Creating a pandas dataset from scratch</a></span></li><li><span><a href=\"#Adding-a-row\" data-toc-modified-id=\"Adding-a-row-1.4\"><span class=\"toc-item-num\">1.4&nbsp;&nbsp;</span>Adding a row</a></span></li><li><span><a href=\"#Getting-a-specific-row\" data-toc-modified-id=\"Getting-a-specific-row-1.5\"><span class=\"toc-item-num\">1.5&nbsp;&nbsp;</span>Getting a specific row</a></span></li><li><span><a href=\"#Selecting-column/columns\" data-toc-modified-id=\"Selecting-column/columns-1.6\"><span class=\"toc-item-num\">1.6&nbsp;&nbsp;</span>Selecting column/columns</a></span></li><li><span><a href=\"#Selecting-row/rows\" data-toc-modified-id=\"Selecting-row/rows-1.7\"><span class=\"toc-item-num\">1.7&nbsp;&nbsp;</span>Selecting row/rows</a></span></li><li><span><a href=\"#Get-the-value-under-a-specific-column\" data-toc-modified-id=\"Get-the-value-under-a-specific-column-1.8\"><span class=\"toc-item-num\">1.8&nbsp;&nbsp;</span>Get the value under a specific column</a></span></li><li><span><a href=\"#Get-the-row-indeces\" data-toc-modified-id=\"Get-the-row-indeces-1.9\"><span class=\"toc-item-num\">1.9&nbsp;&nbsp;</span>Get the row indeces</a></span></li><li><span><a href=\"#Profiling\" data-toc-modified-id=\"Profiling-1.10\"><span class=\"toc-item-num\">1.10&nbsp;&nbsp;</span>Profiling</a></span></li><li><span><a href=\"#meta-dataframe\" data-toc-modified-id=\"meta-dataframe-1.11\"><span class=\"toc-item-num\">1.11&nbsp;&nbsp;</span>meta dataframe</a></span></li><li><span><a href=\"#Hihghligh-and-bold-an-entry\" data-toc-modified-id=\"Hihghligh-and-bold-an-entry-1.12\"><span class=\"toc-item-num\">1.12&nbsp;&nbsp;</span>Hihghligh and bold an entry</a></span></li><li><span><a href=\"#Sorting-by-column\" data-toc-modified-id=\"Sorting-by-column-1.13\"><span class=\"toc-item-num\">1.13&nbsp;&nbsp;</span>Sorting by column</a></span></li><li><span><a href=\"#Changing-the-type-of-entries\" data-toc-modified-id=\"Changing-the-type-of-entries-1.14\"><span class=\"toc-item-num\">1.14&nbsp;&nbsp;</span>Changing the type of entries</a></span></li><li><span><a href=\"#Get-the-row-values-for-a-particular-number\" data-toc-modified-id=\"Get-the-row-values-for-a-particular-number-1.15\"><span class=\"toc-item-num\">1.15&nbsp;&nbsp;</span>Get the row values for a particular number</a></span></li><li><span><a href=\"#Swap-columns-with-raws\" data-toc-modified-id=\"Swap-columns-with-raws-1.16\"><span class=\"toc-item-num\">1.16&nbsp;&nbsp;</span>Swap columns with raws</a></span></li><li><span><a href=\"#Dropping-a-column\" data-toc-modified-id=\"Dropping-a-column-1.17\"><span class=\"toc-item-num\">1.17&nbsp;&nbsp;</span>Dropping a column</a></span></li><li><span><a href=\"#Dropping-a-column-that-contatins-a-string\" data-toc-modified-id=\"Dropping-a-column-that-contatins-a-string-1.18\"><span class=\"toc-item-num\">1.18&nbsp;&nbsp;</span>Dropping a column that contatins a string</a></span></li><li><span><a href=\"#List-column-that-start-with-a-string\" data-toc-modified-id=\"List-column-that-start-with-a-string-1.19\"><span class=\"toc-item-num\">1.19&nbsp;&nbsp;</span>List column that start with a string</a></span></li><li><span><a href=\"#Dropping-a-column-that-contains-?\" data-toc-modified-id=\"Dropping-a-column-that-contains-?-1.20\"><span class=\"toc-item-num\">1.20&nbsp;&nbsp;</span>Dropping a column that contains <code>?</code></a></span></li><li><span><a href=\"#Getting-rid-of-the-row-that-have-a-null-value\" data-toc-modified-id=\"Getting-rid-of-the-row-that-have-a-null-value-1.21\"><span class=\"toc-item-num\">1.21&nbsp;&nbsp;</span>Getting rid of the row that have a null value</a></span></li><li><span><a href=\"#Percentage-of-null-value-per-column\" data-toc-modified-id=\"Percentage-of-null-value-per-column-1.22\"><span class=\"toc-item-num\">1.22&nbsp;&nbsp;</span>Percentage of null value per column</a></span></li><li><span><a href=\"#Updating-iteratively-the-value-of-a-columns\" data-toc-modified-id=\"Updating-iteratively-the-value-of-a-columns-1.23\"><span class=\"toc-item-num\">1.23&nbsp;&nbsp;</span>Updating iteratively the value of a columns</a></span></li><li><span><a href=\"#Iterating-through-a-column-in-pandas\" data-toc-modified-id=\"Iterating-through-a-column-in-pandas-1.24\"><span class=\"toc-item-num\">1.24&nbsp;&nbsp;</span>Iterating through a column in pandas</a></span></li><li><span><a href=\"#From-xls-to-pandas-dataframe\" data-toc-modified-id=\"From-xls-to-pandas-dataframe-1.25\"><span class=\"toc-item-num\">1.25&nbsp;&nbsp;</span>From xls to pandas dataframe</a></span></li><li><span><a href=\"#When-the-excel-file-has-more-than-one-page\" data-toc-modified-id=\"When-the-excel-file-has-more-than-one-page-1.26\"><span class=\"toc-item-num\">1.26&nbsp;&nbsp;</span>When the excel file has more than one page</a></span></li><li><span><a href=\"#Filtering-categorical-features\" data-toc-modified-id=\"Filtering-categorical-features-1.27\"><span class=\"toc-item-num\">1.27&nbsp;&nbsp;</span>Filtering categorical features</a></span></li><li><span><a href=\"#Display-full-contents-of-a-dataframe\" data-toc-modified-id=\"Display-full-contents-of-a-dataframe-1.28\"><span class=\"toc-item-num\">1.28&nbsp;&nbsp;</span>Display full contents of a dataframe</a></span></li><li><span><a href=\"#Save-locally-the-pandas-table\" data-toc-modified-id=\"Save-locally-the-pandas-table-1.29\"><span class=\"toc-item-num\">1.29&nbsp;&nbsp;</span>Save locally the pandas table</a></span></li><li><span><a href=\"#From-object-to-float64-conversion\" data-toc-modified-id=\"From-object-to-float64-conversion-1.30\"><span class=\"toc-item-num\">1.30&nbsp;&nbsp;</span>From object to float64 conversion</a></span></li></ul></li></ul></div>"
   ]
  },
  {
   "cell_type": "markdown",
   "metadata": {},
   "source": [
    "# Introduction"
   ]
  },
  {
   "cell_type": "markdown",
   "metadata": {},
   "source": [
    "<div class=\"alert alert-block alert-warning\">\n",
    "<font color=black>\n",
    "\n",
    "**What?** Pandas cheatsheet\n",
    "\n",
    "</font>\n",
    "</div>"
   ]
  },
  {
   "cell_type": "markdown",
   "metadata": {},
   "source": [
    "## How to reshuffle dataset"
   ]
  },
  {
   "cell_type": "markdown",
   "metadata": {},
   "source": [
    "- parameter frac as 1, it determines what fraction of total instances need to be returned\n",
    "- https://www.geeksforgeeks.org/pandas-how-to-shuffle-a-dataframe-rows/"
   ]
  },
  {
   "cell_type": "code",
   "execution_count": null,
   "metadata": {},
   "outputs": [],
   "source": [
    "df_Xr = df_X.sample(frac=1)\n",
    "df_Yr = df_Y.sample(frac=1)"
   ]
  },
  {
   "cell_type": "markdown",
   "metadata": {},
   "source": [
    " ## General global options"
   ]
  },
  {
   "cell_type": "code",
   "execution_count": null,
   "metadata": {},
   "outputs": [],
   "source": [
    "# Control number of displayed columns\n",
    "pd.set_option(\"display.max_columns\", 50)\n",
    "# Suppress scientific notation\n",
    "pd.set_option('display.float_format', lambda x: '%.5f' % x)"
   ]
  },
  {
   "cell_type": "markdown",
   "metadata": {},
   "source": [
    "## Creating a pandas dataset from scratch"
   ]
  },
  {
   "cell_type": "code",
   "execution_count": null,
   "metadata": {},
   "outputs": [],
   "source": [
    "lst = [[1,2,3], [4,5,6]]\n",
    "df = pd.DataFrame(lst, columns = [\"DV0\", \"DV1\", \"DV2\"])"
   ]
  },
  {
   "cell_type": "code",
   "execution_count": 2,
   "metadata": {},
   "outputs": [
    {
     "data": {
      "text/html": [
       "<div>\n",
       "<style scoped>\n",
       "    .dataframe tbody tr th:only-of-type {\n",
       "        vertical-align: middle;\n",
       "    }\n",
       "\n",
       "    .dataframe tbody tr th {\n",
       "        vertical-align: top;\n",
       "    }\n",
       "\n",
       "    .dataframe thead th {\n",
       "        text-align: right;\n",
       "    }\n",
       "</style>\n",
       "<table border=\"1\" class=\"dataframe\">\n",
       "  <thead>\n",
       "    <tr style=\"text-align: right;\">\n",
       "      <th></th>\n",
       "      <th>Name</th>\n",
       "      <th>Location</th>\n",
       "      <th>Age</th>\n",
       "    </tr>\n",
       "  </thead>\n",
       "  <tbody>\n",
       "    <tr>\n",
       "      <th>0</th>\n",
       "      <td>John</td>\n",
       "      <td>New York</td>\n",
       "      <td>24</td>\n",
       "    </tr>\n",
       "    <tr>\n",
       "      <th>1</th>\n",
       "      <td>Anna</td>\n",
       "      <td>Paris</td>\n",
       "      <td>13</td>\n",
       "    </tr>\n",
       "    <tr>\n",
       "      <th>2</th>\n",
       "      <td>Peter</td>\n",
       "      <td>Berlin</td>\n",
       "      <td>53</td>\n",
       "    </tr>\n",
       "    <tr>\n",
       "      <th>3</th>\n",
       "      <td>Linda</td>\n",
       "      <td>London</td>\n",
       "      <td>33</td>\n",
       "    </tr>\n",
       "  </tbody>\n",
       "</table>\n",
       "</div>"
      ],
      "text/plain": [
       "    Name  Location  Age\n",
       "0   John  New York   24\n",
       "1   Anna     Paris   13\n",
       "2  Peter    Berlin   53\n",
       "3  Linda    London   33"
      ]
     },
     "metadata": {},
     "output_type": "display_data"
    }
   ],
   "source": [
    "import pandas as pd\n",
    "# create a simple dataset of people\n",
    "data = {'Name': [\"John\", \"Anna\", \"Peter\", \"Linda\"],\n",
    "            'Location' : [\"New York\", \"Paris\", \"Berlin\", \"London\"],\n",
    "            'Age' : [24, 13, 53, 33]\n",
    "}\n",
    "data_pandas = pd.DataFrame(data)\n",
    "# IPython.display allows \"pretty printing\" of dataframes # in the Jupyter notebook\n",
    "display(data_pandas)"
   ]
  },
  {
   "cell_type": "markdown",
   "metadata": {},
   "source": [
    "## Adding a row"
   ]
  },
  {
   "cell_type": "code",
   "execution_count": null,
   "metadata": {},
   "outputs": [],
   "source": [
    "# adding a row where a is a pandas row\n",
    "df = df.append(a, ignore_index=False, verify_integrity=False, sort=None)\n",
    "\n",
    "# adding a column\n",
    "df[\"SUM\"] = [1,2]"
   ]
  },
  {
   "cell_type": "markdown",
   "metadata": {},
   "source": [
    "## Getting a specific row"
   ]
  },
  {
   "cell_type": "code",
   "execution_count": 1,
   "metadata": {},
   "outputs": [
    {
     "name": "stdout",
     "output_type": "stream",
     "text": [
      "Original DataFrame\n"
     ]
    },
    {
     "data": {
      "text/html": [
       "<div>\n",
       "<style scoped>\n",
       "    .dataframe tbody tr th:only-of-type {\n",
       "        vertical-align: middle;\n",
       "    }\n",
       "\n",
       "    .dataframe tbody tr th {\n",
       "        vertical-align: top;\n",
       "    }\n",
       "\n",
       "    .dataframe thead th {\n",
       "        text-align: right;\n",
       "    }\n",
       "</style>\n",
       "<table border=\"1\" class=\"dataframe\">\n",
       "  <thead>\n",
       "    <tr style=\"text-align: right;\">\n",
       "      <th></th>\n",
       "      <th>1</th>\n",
       "      <th>2</th>\n",
       "      <th>3</th>\n",
       "      <th>4</th>\n",
       "    </tr>\n",
       "  </thead>\n",
       "  <tbody>\n",
       "    <tr>\n",
       "      <th>0</th>\n",
       "      <td>g</td>\n",
       "      <td>k</td>\n",
       "      <td>o</td>\n",
       "      <td>e</td>\n",
       "    </tr>\n",
       "    <tr>\n",
       "      <th>1</th>\n",
       "      <td>e</td>\n",
       "      <td>s</td>\n",
       "      <td>r</td>\n",
       "      <td>e</td>\n",
       "    </tr>\n",
       "    <tr>\n",
       "      <th>2</th>\n",
       "      <td>e</td>\n",
       "      <td>f</td>\n",
       "      <td>g</td>\n",
       "      <td>k</td>\n",
       "    </tr>\n",
       "  </tbody>\n",
       "</table>\n",
       "</div>"
      ],
      "text/plain": [
       "   1  2  3  4\n",
       "0  g  k  o  e\n",
       "1  e  s  r  e\n",
       "2  e  f  g  k"
      ]
     },
     "metadata": {},
     "output_type": "display_data"
    },
    {
     "name": "stdout",
     "output_type": "stream",
     "text": [
      "Value of row 1\n"
     ]
    },
    {
     "data": {
      "text/plain": [
       "1    e\n",
       "2    s\n",
       "3    r\n",
       "4    e\n",
       "Name: 1, dtype: object"
      ]
     },
     "execution_count": 1,
     "metadata": {},
     "output_type": "execute_result"
    }
   ],
   "source": [
    "# imports\n",
    "import pandas as pd\n",
    "  \n",
    "# creating a DataFrame\n",
    "data = {'1' : ['g', 'e', 'e'], \n",
    "        '2' : ['k', 's', 'f'], \n",
    "        '3' : ['o', 'r', 'g'], \n",
    "        '4' : ['e', 'e', 'k']}\n",
    "df = pd.DataFrame(data)\n",
    "print(\"Original DataFrame\")\n",
    "display(df)\n",
    "  \n",
    "print(\"Value of row 1\")\n",
    "\n",
    "df.iloc[1]"
   ]
  },
  {
   "cell_type": "markdown",
   "metadata": {},
   "source": [
    "## Selecting column/columns"
   ]
  },
  {
   "cell_type": "code",
   "execution_count": null,
   "metadata": {},
   "outputs": [],
   "source": [
    "pandasDataFrame[\"columName\"]"
   ]
  },
  {
   "cell_type": "code",
   "execution_count": null,
   "metadata": {},
   "outputs": [],
   "source": [
    "pandasDataFrame[[\"columName#1\", \"columName#2\"]]"
   ]
  },
  {
   "cell_type": "code",
   "execution_count": null,
   "metadata": {},
   "outputs": [],
   "source": [
    "# Get the index of columns\n",
    "pandasDataFrame.columns.get_loc(\"columName\")"
   ]
  },
  {
   "cell_type": "markdown",
   "metadata": {},
   "source": [
    "## Selecting row/rows"
   ]
  },
  {
   "cell_type": "code",
   "execution_count": null,
   "metadata": {},
   "outputs": [],
   "source": [
    "# selection by row index\n",
    "pandasDataFrame.iloc[1]"
   ]
  },
  {
   "cell_type": "code",
   "execution_count": null,
   "metadata": {},
   "outputs": [],
   "source": [
    "# selection by row value\n",
    "pandasDataFrame.iloc[<value of the row>]"
   ]
  },
  {
   "cell_type": "code",
   "execution_count": null,
   "metadata": {},
   "outputs": [],
   "source": [
    "# .iat and is much faster than .iloc for selecting a single element from a DataFrame\n",
    "pandasDataFrame.iat[1]"
   ]
  },
  {
   "cell_type": "code",
   "execution_count": null,
   "metadata": {},
   "outputs": [],
   "source": [
    "# .at and is much faster than .loc for selecting a single element from a DataFrame\n",
    "pandasDataFrame.at[<value of the row>]"
   ]
  },
  {
   "cell_type": "markdown",
   "metadata": {},
   "source": [
    "## Get the value under a specific column"
   ]
  },
  {
   "cell_type": "code",
   "execution_count": null,
   "metadata": {},
   "outputs": [],
   "source": [
    "# return a numpy array\n",
    "pandasDataFrame[\"columName\"].values"
   ]
  },
  {
   "cell_type": "markdown",
   "metadata": {},
   "source": [
    "## Get the row indeces"
   ]
  },
  {
   "cell_type": "code",
   "execution_count": null,
   "metadata": {},
   "outputs": [],
   "source": [
    "pandasDataFrame.index.values"
   ]
  },
  {
   "cell_type": "markdown",
   "metadata": {},
   "source": [
    "## Profiling"
   ]
  },
  {
   "cell_type": "code",
   "execution_count": null,
   "metadata": {},
   "outputs": [],
   "source": [
    "# pip install pandas-profiling\n",
    "import pandas_profiling\n",
    "pandas_profiling.ProfileReport(df)\n",
    "\n",
    "pfr = pandas_profiling.ProfileReport(df)\n",
    "pfr.to_file(\"./example.html\")"
   ]
  },
  {
   "cell_type": "markdown",
   "metadata": {},
   "source": [
    "## meta dataframe"
   ]
  },
  {
   "cell_type": "code",
   "execution_count": null,
   "metadata": {},
   "outputs": [],
   "source": [
    "# assuming the index.name is not null\n",
    "l_order = [df.index.name] + df.columns.tolist()\n",
    "# is a DF with MetaData\n",
    "df_meta = pfr.description_set['variables'].loc[l_order]\n",
    "\n",
    "print df_meta.shape\n",
    "df_meta.head(4)\n",
    "\n",
    "# E.g, pfr.description_set['variables']['type'] is the columns type:\n",
    "# Numeric\n",
    "# Categorical\n",
    "# Boolean\n",
    "# Date\n",
    "#Text (Unique)\n",
    "# Rejected\n",
    "# Unsupported"
   ]
  },
  {
   "cell_type": "markdown",
   "metadata": {},
   "source": [
    "## Hihghligh and bold an entry"
   ]
  },
  {
   "cell_type": "code",
   "execution_count": 2,
   "metadata": {},
   "outputs": [
    {
     "data": {
      "text/html": [
       "<style  type=\"text/css\" >\n",
       "#T_3f7f1_row0_col0,#T_3f7f1_row1_col1,#T_3f7f1_row2_col2{\n",
       "            background:  yellow;\n",
       "            font-weight:  bold;\n",
       "        }</style><table id=\"T_3f7f1_\" ><thead>    <tr>        <th class=\"blank level0\" ></th>        <th class=\"col_heading level0 col0\" >a</th>        <th class=\"col_heading level0 col1\" >b</th>        <th class=\"col_heading level0 col2\" >d</th>    </tr></thead><tbody>\n",
       "                <tr>\n",
       "                        <th id=\"T_3f7f1_level0_row0\" class=\"row_heading level0 row0\" >0</th>\n",
       "                        <td id=\"T_3f7f1_row0_col0\" class=\"data row0 col0\" >1</td>\n",
       "                        <td id=\"T_3f7f1_row0_col1\" class=\"data row0 col1\" >50</td>\n",
       "                        <td id=\"T_3f7f1_row0_col2\" class=\"data row0 col2\" >3</td>\n",
       "            </tr>\n",
       "            <tr>\n",
       "                        <th id=\"T_3f7f1_level0_row1\" class=\"row_heading level0 row1\" >1</th>\n",
       "                        <td id=\"T_3f7f1_row1_col0\" class=\"data row1 col0\" >2</td>\n",
       "                        <td id=\"T_3f7f1_row1_col1\" class=\"data row1 col1\" >21</td>\n",
       "                        <td id=\"T_3f7f1_row1_col2\" class=\"data row1 col2\" >2</td>\n",
       "            </tr>\n",
       "            <tr>\n",
       "                        <th id=\"T_3f7f1_level0_row2\" class=\"row_heading level0 row2\" >2</th>\n",
       "                        <td id=\"T_3f7f1_row2_col0\" class=\"data row2 col0\" >3</td>\n",
       "                        <td id=\"T_3f7f1_row2_col1\" class=\"data row2 col1\" >23</td>\n",
       "                        <td id=\"T_3f7f1_row2_col2\" class=\"data row2 col2\" >1</td>\n",
       "            </tr>\n",
       "    </tbody></table>"
      ],
      "text/plain": [
       "<pandas.io.formats.style.Styler at 0x107dea490>"
      ]
     },
     "execution_count": 2,
     "metadata": {},
     "output_type": "execute_result"
    }
   ],
   "source": [
    "# importing the module\n",
    "import pandas as pd\n",
    "\n",
    "# Functions\n",
    "\n",
    "\n",
    "def highlight_min(x):\n",
    "    x_min = x.min()\n",
    "    return ['background: yellow' if v == x_min else '' for v in x]\n",
    "\n",
    "\n",
    "def bold_min(x):\n",
    "    x_min = x.min()\n",
    "    return ['font-weight: bold' if v == x_min else '' for v in x]\n",
    "\n",
    "\n",
    "# creating a dummy DataFrame\n",
    "data = {'a': [1, 2, 3],\n",
    "        'b': [50, 21, 23],\n",
    "        'd': [3, 2, 1]}\n",
    "df = pd.DataFrame(data)\n",
    "\n",
    "# Visualise the highlighted df\n",
    "df.style.apply(highlight_min).apply(bold_min)"
   ]
  },
  {
   "cell_type": "markdown",
   "metadata": {},
   "source": [
    "## Sorting by column"
   ]
  },
  {
   "cell_type": "code",
   "execution_count": 5,
   "metadata": {},
   "outputs": [],
   "source": [
    "import pandas as pd\n",
    "a = pd.DataFrame()\n",
    "a[\"value\"] = [1, 4, -6, 15]\n",
    "a[\"letter\"] = [\"a\", \"b\", \"c\", \"d\"]\n",
    "a.sort_values(by=['value'], inplace=True, ascending=True)"
   ]
  },
  {
   "cell_type": "code",
   "execution_count": 6,
   "metadata": {},
   "outputs": [
    {
     "data": {
      "text/html": [
       "<div>\n",
       "<style scoped>\n",
       "    .dataframe tbody tr th:only-of-type {\n",
       "        vertical-align: middle;\n",
       "    }\n",
       "\n",
       "    .dataframe tbody tr th {\n",
       "        vertical-align: top;\n",
       "    }\n",
       "\n",
       "    .dataframe thead th {\n",
       "        text-align: right;\n",
       "    }\n",
       "</style>\n",
       "<table border=\"1\" class=\"dataframe\">\n",
       "  <thead>\n",
       "    <tr style=\"text-align: right;\">\n",
       "      <th></th>\n",
       "      <th>value</th>\n",
       "      <th>letter</th>\n",
       "    </tr>\n",
       "  </thead>\n",
       "  <tbody>\n",
       "    <tr>\n",
       "      <th>2</th>\n",
       "      <td>-6</td>\n",
       "      <td>c</td>\n",
       "    </tr>\n",
       "    <tr>\n",
       "      <th>0</th>\n",
       "      <td>1</td>\n",
       "      <td>a</td>\n",
       "    </tr>\n",
       "    <tr>\n",
       "      <th>1</th>\n",
       "      <td>4</td>\n",
       "      <td>b</td>\n",
       "    </tr>\n",
       "    <tr>\n",
       "      <th>3</th>\n",
       "      <td>15</td>\n",
       "      <td>d</td>\n",
       "    </tr>\n",
       "  </tbody>\n",
       "</table>\n",
       "</div>"
      ],
      "text/plain": [
       "   value letter\n",
       "2     -6      c\n",
       "0      1      a\n",
       "1      4      b\n",
       "3     15      d"
      ]
     },
     "execution_count": 6,
     "metadata": {},
     "output_type": "execute_result"
    }
   ],
   "source": [
    "a"
   ]
  },
  {
   "cell_type": "markdown",
   "metadata": {},
   "source": [
    "## Changing the type of entries"
   ]
  },
  {
   "cell_type": "code",
   "execution_count": null,
   "metadata": {},
   "outputs": [],
   "source": [
    "df = df.astype(\"float\")"
   ]
  },
  {
   "cell_type": "markdown",
   "metadata": {},
   "source": [
    "## Get the row values for a particular number"
   ]
  },
  {
   "cell_type": "code",
   "execution_count": null,
   "metadata": {},
   "outputs": [],
   "source": [
    "df.iloc[170]"
   ]
  },
  {
   "cell_type": "markdown",
   "metadata": {},
   "source": [
    "## Swap columns with raws"
   ]
  },
  {
   "cell_type": "code",
   "execution_count": null,
   "metadata": {},
   "outputs": [],
   "source": [
    "q=pd.DataFrame()\n",
    "q.T"
   ]
  },
  {
   "cell_type": "markdown",
   "metadata": {},
   "source": [
    "## Dropping a column"
   ]
  },
  {
   "cell_type": "code",
   "execution_count": null,
   "metadata": {},
   "outputs": [],
   "source": [
    "import copy\n",
    "# Just make copy to keep the two dataset separate\n",
    "dfnew = copy.deepcopy(df)\n",
    "dfnew.drop(columns = [\"ColumnName#1\", \"ColumnName2\", \"\"], inplace = True)"
   ]
  },
  {
   "cell_type": "markdown",
   "metadata": {},
   "source": [
    "## Dropping a column that contatins a string"
   ]
  },
  {
   "cell_type": "code",
   "execution_count": null,
   "metadata": {},
   "outputs": [],
   "source": [
    "dft = df[df.columns.drop(list(df.filter(regex='string_to_search_*')))]"
   ]
  },
  {
   "cell_type": "markdown",
   "metadata": {},
   "source": [
    "## List column that start with a string"
   ]
  },
  {
   "cell_type": "code",
   "execution_count": null,
   "metadata": {},
   "outputs": [],
   "source": [
    "df.filter(regex=r'^string')"
   ]
  },
  {
   "cell_type": "markdown",
   "metadata": {},
   "source": [
    "## Dropping a column that contains `?`"
   ]
  },
  {
   "cell_type": "code",
   "execution_count": null,
   "metadata": {},
   "outputs": [],
   "source": [
    "df = pd.read_csv(\"../dataset.csv\")\n",
    "df = df.replace(\"?\", np.NaN)\n",
    "df = df.dropna(how = 'any', axis = 0) "
   ]
  },
  {
   "cell_type": "code",
   "execution_count": null,
   "metadata": {},
   "outputs": [],
   "source": [
    "# if you have -inf\n",
    "df = df.replace(-np.inf, np.NaN)\n",
    "df = df.dropna(how = 'any', axis = 0) "
   ]
  },
  {
   "cell_type": "markdown",
   "metadata": {},
   "source": [
    "## Getting rid of the row that have a null value"
   ]
  },
  {
   "cell_type": "code",
   "execution_count": null,
   "metadata": {},
   "outputs": [],
   "source": [
    "df = df.dropna(how = 'any', axis = 0) "
   ]
  },
  {
   "cell_type": "markdown",
   "metadata": {},
   "source": [
    "## Percentage of null value per column"
   ]
  },
  {
   "cell_type": "code",
   "execution_count": null,
   "metadata": {},
   "outputs": [],
   "source": [
    "# This one will give you the percentage of data missing\n",
    "df.isnull().mean()*100"
   ]
  },
  {
   "cell_type": "markdown",
   "metadata": {},
   "source": [
    "## Updating iteratively the value of a columns"
   ]
  },
  {
   "cell_type": "code",
   "execution_count": null,
   "metadata": {},
   "outputs": [],
   "source": [
    "for index, row in allScrapedDataClean.iterrows():    \n",
    "    if \"apartment\" in row[\"type\"].split():        \n",
    "        allScrapedDataClean.at[index, \"type\"] = \"apartment\"\n",
    "    else:        \n",
    "        allScrapedDataClean.at[index, \"type\"] = \"house\""
   ]
  },
  {
   "cell_type": "markdown",
   "metadata": {},
   "source": [
    "## Iterating through a column in pandas"
   ]
  },
  {
   "cell_type": "code",
   "execution_count": null,
   "metadata": {},
   "outputs": [],
   "source": [
    "for index, row in df.iterrows():    \n",
    "    print(row[\"ColumnName\"])"
   ]
  },
  {
   "cell_type": "markdown",
   "metadata": {},
   "source": [
    "## From xls to pandas dataframe"
   ]
  },
  {
   "cell_type": "code",
   "execution_count": null,
   "metadata": {},
   "outputs": [],
   "source": [
    "df = pd.read_excel(\"../DATASETS/Concrete_Data.xls\")"
   ]
  },
  {
   "cell_type": "markdown",
   "metadata": {},
   "source": [
    "## When the excel file has more than one page"
   ]
  },
  {
   "cell_type": "code",
   "execution_count": null,
   "metadata": {},
   "outputs": [],
   "source": [
    "# read the excel file\n",
    "Excel_file = pd.ExcelFile(\"../DATASETS/COE.xls\")\n",
    "# How many sheets are there? Just one.\n",
    "print(Excel_file.sheet_names)\n",
    "# Selecting only one page\n",
    "spreadsheet = Excel_file.parse(\"COE data\")"
   ]
  },
  {
   "cell_type": "markdown",
   "metadata": {},
   "source": [
    "## Filtering categorical features"
   ]
  },
  {
   "cell_type": "code",
   "execution_count": null,
   "metadata": {},
   "outputs": [],
   "source": [
    "# List of categorical columns\n",
    "categoricalcolumns = df.select_dtypes(include=[\"object\"]).columns.tolist()\n",
    "print(\"Names of categorical columns : \", categoricalcolumns)\n",
    "# Get location of categorical columns\n",
    "cat_features = [df.columns.get_loc(col) for col in categoricalcolumns]\n",
    "print(\"Location of categorical columns : \", cat_features)"
   ]
  },
  {
   "cell_type": "markdown",
   "metadata": {},
   "source": [
    "## Display full contents of a dataframe"
   ]
  },
  {
   "cell_type": "markdown",
   "metadata": {},
   "source": [
    "[Reference](https://thispointer.com/python-pandas-how-to-display-full-dataframe-i-e-print-all-rows-columns-without-truncation/)"
   ]
  },
  {
   "cell_type": "code",
   "execution_count": null,
   "metadata": {},
   "outputs": [],
   "source": [
    "pd.set_option('display.max_rows', None)\n",
    "pd.set_option('display.max_columns', None)\n",
    "pd.set_option('display.width', None)\n",
    "pd.set_option('display.max_colwidth', -1)"
   ]
  },
  {
   "cell_type": "markdown",
   "metadata": {},
   "source": [
    "## Save locally the pandas table"
   ]
  },
  {
   "cell_type": "code",
   "execution_count": null,
   "metadata": {},
   "outputs": [],
   "source": [
    "df.to_latex('./summary_table.txt')"
   ]
  },
  {
   "cell_type": "markdown",
   "metadata": {},
   "source": [
    "## From object to float64 conversion"
   ]
  },
  {
   "cell_type": "code",
   "execution_count": null,
   "metadata": {},
   "outputs": [],
   "source": [
    "#https://stackoverflow.com/questions/28277137/how-to-convert-datatypeobject-to-float64-in-python\n",
    "import pandas as pd\n",
    "dfc = dfc.apply(lambda col:pd.to_numeric(col, errors='coerce'))\n",
    "dfc.info()"
   ]
  },
  {
   "cell_type": "code",
   "execution_count": null,
   "metadata": {},
   "outputs": [],
   "source": []
  }
 ],
 "metadata": {
  "hide_input": false,
  "kernelspec": {
   "display_name": "trainingAI",
   "language": "python",
   "name": "trainingai"
  },
  "language_info": {
   "codemirror_mode": {
    "name": "ipython",
    "version": 3
   },
   "file_extension": ".py",
   "mimetype": "text/x-python",
   "name": "python",
   "nbconvert_exporter": "python",
   "pygments_lexer": "ipython3",
   "version": "3.9.7"
  },
  "toc": {
   "base_numbering": 1,
   "nav_menu": {},
   "number_sections": true,
   "sideBar": true,
   "skip_h1_title": false,
   "title_cell": "Table of Contents",
   "title_sidebar": "Contents",
   "toc_cell": true,
   "toc_position": {
    "height": "calc(100% - 180px)",
    "left": "10px",
    "top": "150px",
    "width": "298.667px"
   },
   "toc_section_display": true,
   "toc_window_display": true
  },
  "varInspector": {
   "cols": {
    "lenName": 16,
    "lenType": 16,
    "lenVar": 40
   },
   "kernels_config": {
    "python": {
     "delete_cmd_postfix": "",
     "delete_cmd_prefix": "del ",
     "library": "var_list.py",
     "varRefreshCmd": "print(var_dic_list())"
    },
    "r": {
     "delete_cmd_postfix": ") ",
     "delete_cmd_prefix": "rm(",
     "library": "var_list.r",
     "varRefreshCmd": "cat(var_dic_list()) "
    }
   },
   "types_to_exclude": [
    "module",
    "function",
    "builtin_function_or_method",
    "instance",
    "_Feature"
   ],
   "window_display": false
  }
 },
 "nbformat": 4,
 "nbformat_minor": 2
}
